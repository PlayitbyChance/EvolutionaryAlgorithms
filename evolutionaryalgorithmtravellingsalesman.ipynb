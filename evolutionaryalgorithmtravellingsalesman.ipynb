{
 "cells": [
  {
   "cell_type": "markdown",
   "metadata": {},
   "source": [
    "In the following code, the use of evolutionary algorithms is explored for solving computationally hard problems.\n",
    "Specifically, the travelling salesman problem is used as a test case. In short, the problem is as follows:\n",
    "given a set of cities, what is the shortest path the salesman can take so that all cities are visited once?\n",
    "\n",
    "First, random city locations are generated to set up the problem. Following that, a simple exponential time algorithm\n",
    "is provided as baseline for smaller test cases (my computer crashed at n = 30...). Finally, the evolutionary algorithm\n",
    "is provided and explored. \n",
    "\n",
    "https://en.wikipedia.org/wiki/Travelling_salesman_problem"
   ]
  },
  {
   "cell_type": "code",
   "execution_count": 1,
   "metadata": {},
   "outputs": [],
   "source": [
    "import numpy as np\n",
    "import math\n",
    "import time\n",
    "from tqdm import tqdm_notebook as tqdm\n",
    "import matplotlib.pyplot as plt\n",
    "from itertools import combinations"
   ]
  },
  {
   "cell_type": "markdown",
   "metadata": {},
   "source": [
    "First we want to create a dataset to use. For this I randomly generate \"cities\" on a 1000x1000 grid. "
   ]
  },
  {
   "cell_type": "code",
   "execution_count": 2,
   "metadata": {},
   "outputs": [],
   "source": [
    "def generate_cities(n):\n",
    "    # generating fake city locations\n",
    "    coordinates = np.random.uniform(0, 1000, [n, 2])\n",
    "\n",
    "    # calculate Euclidean distance between all the cities and saving to a matrix\n",
    "    # this allows us to simply reference the matrix when scoring paths\n",
    "    distance_matrix = np.zeros([n, n])\n",
    "    for i in range(n):\n",
    "        for j in range(i):\n",
    "            # matrix is symmetric, so there is some redudancy, but this makes it simpler to work with and the extra memory isn't an issue\n",
    "            distance_matrix[i, j] = np.linalg.norm(coordinates[i] - coordinates[j])\n",
    "            distance_matrix[j, i] = np.linalg.norm(coordinates[i] - coordinates[j])\n",
    "\n",
    "    return(distance_matrix, coordinates)"
   ]
  },
  {
   "cell_type": "code",
   "execution_count": 3,
   "metadata": {},
   "outputs": [],
   "source": [
    "# n is the number of cities and is used for most functions below\n",
    "n = 20\n",
    "distance_matrix, coordinates = generate_cities(n)"
   ]
  },
  {
   "cell_type": "markdown",
   "metadata": {},
   "source": [
    "Below is a simple search algorithm that we can use as a benchmark for speed and accuracy. It uses some dynamic programming ideas to bring it down from factorial time to exponential time (though requiring some more memory).  "
   ]
  },
  {
   "cell_type": "code",
   "execution_count": 4,
   "metadata": {},
   "outputs": [],
   "source": [
    "def dynamic_search_algorithm(n, distance_matrix): \n",
    "    saved_results = dict()\n",
    "    def C(S, i):\n",
    "        if (S, i) in saved_results:\n",
    "            return(saved_results[S, i])\n",
    "        if len(S) == 1:\n",
    "            result = distance_matrix[0, i]\n",
    "        else:\n",
    "            result = 2**64\n",
    "            for q in S:\n",
    "                S_without_q = tuple([x for x in S if x != q])\n",
    "                test = C(S_without_q, q) + distance_matrix[q, i]\n",
    "                if test < result:\n",
    "                    result = test\n",
    "        saved_results[S,i] = result\n",
    "        return(saved_results[S, i])\n",
    "\n",
    "    for k in range(1,n):\n",
    "        for S in combinations(range(1,n), k):\n",
    "            for j in range(1,n):\n",
    "                if j not in S:\n",
    "                    C(S, j)\n",
    "            if k == n-1:\n",
    "                best_path_distance = C(S,j) + distance_matrix[j,0]\n",
    "    return(best_path_distance)"
   ]
  },
  {
   "cell_type": "code",
   "execution_count": 5,
   "metadata": {},
   "outputs": [
    {
     "name": "stdout",
     "output_type": "stream",
     "text": [
      "Solution cost: 1862.0556311151313\n",
      "Runtime: 0.0009970664978027344\n"
     ]
    }
   ],
   "source": [
    "t0 = time.time()\n",
    "min_cost_path = dynamic_search_algorithm(n, distance_matrix)\n",
    "t1 = time.time()\n",
    "runtime = t1 - t0\n",
    "print('Solution cost: ' + str(min_cost_path))\n",
    "print('Runtime: ' + str(runtime))"
   ]
  },
  {
   "cell_type": "markdown",
   "metadata": {},
   "source": [
    "\n",
    "Evolutionary algorithm implemention time! In order to construct an evolutionary algorithm, we need 3 basic things:\n",
    "1. A way to encode candidate solutions.\n",
    "2. A way to judge the solutions. (Selection)\n",
    "3. A way to construct new candidates using the successful ones. (Reproduction)\n",
    "4. Optional: A way for the algorithm to explore by randomly changing candidates. (Mutation)\n",
    "\n",
    "We can encode each solution pretty easily; each one can simply be a permutation of the cities. We can judge the solutions based on the distance travelled based the order of the cities in a given permutation and choose the top half of solutions. There are many different ways to construct new candidates. For this implementation, we will randomly choose a segment of one parent, and then fill in the remaining spots using the other parent. An example is shown below. For mutation, a random proportion of candidates are chosen 2 cities are swapped. \n",
    "\n",
    "Example: given the two parents below, the chosen segement is the middle 3 positions.\n",
    "\n",
    "Parents:\n",
    "\n",
    "[1, 2, 4, 5, 6, 3, 7] (Start at city 1, go to 2, then 4, 5, 6, 3, 7 and back to 1)\n",
    "\n",
    "[4, 5, 2, 3, 1, 6, 7]\n",
    "\n",
    "Offspring:\n",
    "\n",
    "[4, 5, 2, 3, 1, 6, 7]\n",
    "\n",
    "[2, 3, 4, 5, 6, 1, 7]"
   ]
  },
  {
   "cell_type": "code",
   "execution_count": 6,
   "metadata": {},
   "outputs": [],
   "source": [
    "# Some functions to initialize and perform selection\n",
    "\n",
    "# Initialize an array of possible candidates\n",
    "def create_candidates(n, num_candidates):\n",
    "    candidates = np.zeros([num_candidates, n])\n",
    "    for i in range(num_candidates):\n",
    "        candidates[i] = np.random.permutation(n)\n",
    "    return(candidates)\n",
    "\n",
    "# Return total path distance of a candidate solution. Lower the better!\n",
    "def distance(candidate, distance_matrix, n):\n",
    "    distance = 0\n",
    "    for i in range(n):\n",
    "        distance += distance_matrix[int(candidate[i-1]), int(candidate[i])]\n",
    "    return(distance)    \n",
    "\n",
    "# Select the best half of candidates based on lowest total path distances, discarding the rest.  \n",
    "def selection(candidates, distance_matrix, n, return_distances = False):\n",
    "    # calculate distances (score) for each candidate\n",
    "    distances = np.zeros(len(candidates))\n",
    "    for i in range(len(candidates)):\n",
    "        distances[i] = distance(candidates[i], distance_matrix, n)\n",
    "    # take the top half of candidates and return them as \"survivors\"\n",
    "    number_survivors = len(candidates)//2 \n",
    "    survivor_indices = (distances).argsort()[:number_survivors]\n",
    "    survivors = []\n",
    "    for i in survivor_indices:\n",
    "        survivors.append(candidates[i])\n",
    "    if return_distances:\n",
    "        return(survivors, distances[(distances).argsort()[:number_survivors]])\n",
    "    return(survivors)"
   ]
  },
  {
   "cell_type": "code",
   "execution_count": 7,
   "metadata": {},
   "outputs": [],
   "source": [
    "# Functions to perform crossover step\n",
    "\n",
    "# This function performs crossover as outlined above. It selects a random segment of each candidate\n",
    "# to pass on to the children, and then fills in the remaining spots. \n",
    "def crossover(candidate_A, candidate_B, n):\n",
    "    segment_points = np.random.randint(1, n, 2)\n",
    "    start = min(segment_points)\n",
    "    stop = max(segment_points)\n",
    "    child_A = np.full(n, n + 1)\n",
    "    child_B = np.full(n, n + 1)\n",
    "    child_A[start:stop] = candidate_A[start:stop]\n",
    "    child_B[start:stop] = candidate_B[start:stop]\n",
    "    \n",
    "    j = 0\n",
    "    k = 0\n",
    "    for i in range(n):\n",
    "        if child_A[i] == n + 1:\n",
    "            while candidate_B[j] in child_A:\n",
    "                j += 1\n",
    "            child_A[i] = candidate_B[j]\n",
    "        if child_B[i] == n + 1:\n",
    "            while candidate_A[k] in child_B:\n",
    "                k += 1\n",
    "            child_B[i] = candidate_A[k]\n",
    "    return(child_A, child_B)\n",
    "\n",
    "# Using the selected survivors, return a new array with those survivors and their children\n",
    "def create_children(survivors, n):\n",
    "    np.random.shuffle(survivors)\n",
    "    new_survivors = np.zeros([len(survivors), n])\n",
    "    for i in range(len(survivors)//2):\n",
    "        new_survivors[2 * i], new_survivors[2 * i + 1] = crossover(survivors[i], survivors[i + 1], n)\n",
    "    return(np.vstack((survivors, new_survivors)))"
   ]
  },
  {
   "cell_type": "code",
   "execution_count": 8,
   "metadata": {},
   "outputs": [],
   "source": [
    "# Before repeating the selection and crossover processes, some portion of the candidates\n",
    "# are randomly mutated. This helps the algorithm \"explore\" new possibilities. \n",
    "def mutate(candidate, n):\n",
    "    point_a, point_b = np.random.randint(1, n, 2)\n",
    "    new_candidate = candidate.copy()\n",
    "    new_candidate[point_a] = candidate[point_b]\n",
    "    new_candidate[point_b] = candidate[point_a]\n",
    "    return(new_candidate)\n",
    "\n",
    "def random_mutations(candidates, prob, n):\n",
    "    random_numbers = np.random.uniform(size = len(candidates))\n",
    "    new_candidates = candidates\n",
    "    for i in range(len(random_numbers)):\n",
    "        if random_numbers[i] < prob:\n",
    "            new_candidates[i] = mutate(candidates[i], n)\n",
    "    return(new_candidates)"
   ]
  },
  {
   "cell_type": "code",
   "execution_count": 9,
   "metadata": {},
   "outputs": [],
   "source": [
    "def evolutionary_algorithm(n, distance_matrix, num_candidates = 100, iterations = 100, return_distances = True, prob = .02):\n",
    "    # initialize\n",
    "    candidates = create_candidates(n, num_candidates)\n",
    "    # create vector to save the min distances. This will let us see how the results improve over time\n",
    "    min_distances = []\n",
    "    for i in range(iterations):\n",
    "        # selection\n",
    "        if return_distances:\n",
    "            survivors, distances = selection(candidates, distance_matrix, n, return_distances)\n",
    "            # keep track of minimum path distance\n",
    "            min_distances.append(min(distances))\n",
    "        else:\n",
    "            survivors = selection(candidates, distance_matrix, n, return_distances)\n",
    "        # crossover\n",
    "        new_candidates = create_children(survivors, n)\n",
    "        # mutation\n",
    "        candidates = random_mutations(new_candidates, prob, n)\n",
    "    # choose the most fit candidate\n",
    "    best_distance = 2**64\n",
    "    for i in range(len(candidates)):\n",
    "        curr_distance = distance(candidates[i], distance_matrix, n)\n",
    "        if curr_distance < best_distance:\n",
    "            best_distance = curr_distance\n",
    "            best_ind = i\n",
    "    return(candidates[best_ind], min_distances)"
   ]
  },
  {
   "cell_type": "code",
   "execution_count": 10,
   "metadata": {},
   "outputs": [
    {
     "name": "stdout",
     "output_type": "stream",
     "text": [
      "2127.870992997343\n",
      "0.7350356578826904\n"
     ]
    }
   ],
   "source": [
    "t0 = time.time()\n",
    "best_candidate, min_distances = evolutionary_algorithm(n, distance_matrix, iterations = 200)\n",
    "t1 = time.time()\n",
    "evolution_runtime = t1-t0\n",
    "print(min(min_distances))\n",
    "print(evolution_runtime)"
   ]
  },
  {
   "cell_type": "code",
   "execution_count": 11,
   "metadata": {},
   "outputs": [
    {
     "data": {
      "image/png": "[encoded data removed]",
      "text/plain": [
       "<Figure size 432x288 with 1 Axes>"
      ]
     },
     "metadata": {
      "needs_background": "light"
     },
     "output_type": "display_data"
    }
   ],
   "source": [
    "# Showing the generated cities\n",
    "plt.plot(coordinates[:,0],coordinates[:,1], 'ro')\n",
    "plt.savefig('evoltravellingsalesman' + str(n) + '.png')\n",
    "plt.show()"
   ]
  },
  {
   "cell_type": "code",
   "execution_count": 12,
   "metadata": {},
   "outputs": [
    {
     "data": {
      "image/png": "[encoded data removed]",
      "text/plain": [
       "<Figure size 432x288 with 1 Axes>"
      ]
     },
     "metadata": {
      "needs_background": "light"
     },
     "output_type": "display_data"
    }
   ],
   "source": [
    "# visualizing the solution\n",
    "x_coordinates = coordinates[best_candidate.astype(int)[-1:n], 0]\n",
    "plt.plot(coordinates[:,0],coordinates[:,1], 'ro')\n",
    "plt.plot(coordinates[np.append(best_candidate, best_candidate[0]).astype(int), 0], \n",
    "         coordinates[np.append(best_candidate, best_candidate[0]).astype(int), 1])\n",
    "plt.savefig('evoltravellingsalesmanbestsol' + str(n) + '.png')\n",
    "plt.show()"
   ]
  },
  {
   "cell_type": "code",
   "execution_count": 13,
   "metadata": {},
   "outputs": [
    {
     "data": {
      "text/plain": [
       "[<matplotlib.lines.Line2D at 0x24c5607f128>]"
      ]
     },
     "execution_count": 13,
     "metadata": {},
     "output_type": "execute_result"
    },
    {
     "data": {
      "image/png": "[encoded data removed]",
      "text/plain": [
       "<Figure size 432x288 with 1 Axes>"
      ]
     },
     "metadata": {
      "needs_background": "light"
     },
     "output_type": "display_data"
    }
   ],
   "source": [
    "# training iterations\n",
    "iterations = 200\n",
    "x = np.arange(iterations)\n",
    "plt.title('Best Candidate Path Distance Over Time')\n",
    "plt.xlabel('Iteration')\n",
    "plt.ylabel('Path distance')\n",
    "plt.savefig('evoltravellingsalesmantraining' + str(n) + '.png')\n",
    "plt.plot(x, min_distances)"
   ]
  }
 ],
 "metadata": {
  "kernelspec": {
   "display_name": "Python 3",
   "language": "python",
   "name": "python3"
  },
  "language_info": {
   "codemirror_mode": {
    "name": "ipython",
    "version": 3
   },
   "file_extension": ".py",
   "mimetype": "text/x-python",
   "name": "python",
   "nbconvert_exporter": "python",
   "pygments_lexer": "ipython3",
   "version": "3.6.7"
  }
 },
 "nbformat": 4,
 "nbformat_minor": 2
}
